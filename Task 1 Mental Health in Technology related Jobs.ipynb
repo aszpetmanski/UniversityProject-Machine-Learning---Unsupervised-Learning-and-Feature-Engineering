{
 "cells": [
  {
   "cell_type": "markdown",
   "id": "fc970a4d-cf10-4667-888b-0311e6419261",
   "metadata": {},
   "source": []
  },
  {
   "cell_type": "code",
   "execution_count": 293,
   "id": "fb1ed801-7ed8-46d7-bcad-c1fcc0831683",
   "metadata": {},
   "outputs": [],
   "source": [
    "#Import neccesary libriaries\n",
    "\n",
    "import kaggle\n",
    "import pandas as pd\n",
    "import numpy as np\n",
    "import matplotlib.pyplot as plt\n",
    "# Import seaborn\n",
    "import seaborn as sns\n",
    "\n",
    "# Apply the default theme\n",
    "sns.set_theme()\n",
    "\n",
    "pd.options.mode.chained_assignment = None  # default='warn'"
   ]
  },
  {
   "cell_type": "code",
   "execution_count": 294,
   "id": "334fe9b6-89a2-46d5-87df-1de5739e3b71",
   "metadata": {},
   "outputs": [],
   "source": [
    "#Download dataset\n",
    "\n",
    "#!kaggle datasets download -d osmi/mental-health-in-tech-2016"
   ]
  },
  {
   "cell_type": "code",
   "execution_count": 295,
   "id": "c275da42-4b36-484b-849d-141dc0a36236",
   "metadata": {},
   "outputs": [],
   "source": [
    "#Unpack the dataset\n",
    "\n",
    "#!unzip mental-health-in-tech-2016\\"
   ]
  },
  {
   "cell_type": "code",
   "execution_count": 296,
   "id": "dfda3c4b-2038-4fbe-b2f7-801aae928eb9",
   "metadata": {},
   "outputs": [],
   "source": [
    "#Create pandas DataFrame\n",
    "\n",
    "df = pd.read_csv('mental-heath-in-tech-2016_20161114.csv')"
   ]
  },
  {
   "cell_type": "code",
   "execution_count": 297,
   "id": "8a1fd6e8-44e5-40a1-a560-ab71ca9e2a9d",
   "metadata": {},
   "outputs": [
    {
     "name": "stdout",
     "output_type": "stream",
     "text": [
      "1. Are you self-employed?\n",
      "2. How many employees does your company or organization have?\n",
      "3. Is your employer primarily a tech company/organization?\n",
      "4. Is your primary role within your company related to tech/IT?\n",
      "5. Does your employer provide mental health benefits as part of healthcare coverage?\n",
      "6. Do you know the options for mental health care available under your employer-provided coverage?\n",
      "7. Has your employer ever formally discussed mental health (for example, as part of a wellness campaign or other official communication)?\n",
      "8. Does your employer offer resources to learn more about mental health concerns and options for seeking help?\n",
      "9. Is your anonymity protected if you choose to take advantage of mental health or substance abuse treatment resources provided by your employer?\n",
      "10. If a mental health issue prompted you to request a medical leave from work, asking for that leave would be:\n",
      "11. Do you think that discussing a mental health disorder with your employer would have negative consequences?\n",
      "12. Do you think that discussing a physical health issue with your employer would have negative consequences?\n",
      "13. Would you feel comfortable discussing a mental health disorder with your coworkers?\n",
      "14. Would you feel comfortable discussing a mental health disorder with your direct supervisor(s)?\n",
      "15. Do you feel that your employer takes mental health as seriously as physical health?\n",
      "16. Have you heard of or observed negative consequences for co-workers who have been open about mental health issues in your workplace?\n",
      "17. Do you have medical coverage (private insurance or state-provided) which includes treatment of  mental health issues?\n",
      "18. Do you know local or online resources to seek help for a mental health disorder?\n",
      "19. If you have been diagnosed or treated for a mental health disorder, do you ever reveal this to clients or business contacts?\n",
      "20. If you have revealed a mental health issue to a client or business contact, do you believe this has impacted you negatively?\n",
      "21. If you have been diagnosed or treated for a mental health disorder, do you ever reveal this to coworkers or employees?\n",
      "22. If you have revealed a mental health issue to a coworker or employee, do you believe this has impacted you negatively?\n",
      "23. Do you believe your productivity is ever affected by a mental health issue?\n",
      "24. If yes, what percentage of your work time (time performing primary or secondary job functions) is affected by a mental health issue?\n",
      "25. Do you have previous employers?\n",
      "26. Have your previous employers provided mental health benefits?\n",
      "27. Were you aware of the options for mental health care provided by your previous employers?\n",
      "28. Did your previous employers ever formally discuss mental health (as part of a wellness campaign or other official communication)?\n",
      "29. Did your previous employers provide resources to learn more about mental health issues and how to seek help?\n",
      "30. Was your anonymity protected if you chose to take advantage of mental health or substance abuse treatment resources with previous employers?\n",
      "31. Do you think that discussing a mental health disorder with previous employers would have negative consequences?\n",
      "32. Do you think that discussing a physical health issue with previous employers would have negative consequences?\n",
      "33. Would you have been willing to discuss a mental health issue with your previous co-workers?\n",
      "34. Would you have been willing to discuss a mental health issue with your direct supervisor(s)?\n",
      "35. Did you feel that your previous employers took mental health as seriously as physical health?\n",
      "36. Did you hear of or observe negative consequences for co-workers with mental health issues in your previous workplaces?\n",
      "37. Would you be willing to bring up a physical health issue with a potential employer in an interview?\n",
      "38. Why or why not?\n",
      "39. Would you bring up a mental health issue with a potential employer in an interview?\n",
      "40. Why or why not?.1\n",
      "41. Do you feel that being identified as a person with a mental health issue would hurt your career?\n",
      "42. Do you think that team members/co-workers would view you more negatively if they knew you suffered from a mental health issue?\n",
      "43. How willing would you be to share with friends and family that you have a mental illness?\n",
      "44. Have you observed or experienced an unsupportive or badly handled response to a mental health issue in your current or previous workplace?\n",
      "45. Have your observations of how another individual who discussed a mental health disorder made you less likely to reveal a mental health issue yourself in your current workplace?\n",
      "46. Do you have a family history of mental illness?\n",
      "47. Have you had a mental health disorder in the past?\n",
      "48. Do you currently have a mental health disorder?\n",
      "49. If yes, what condition(s) have you been diagnosed with?\n",
      "50. If maybe, what condition(s) do you believe you have?\n",
      "51. Have you been diagnosed with a mental health condition by a medical professional?\n",
      "52. If so, what condition(s) were you diagnosed with?\n",
      "53. Have you ever sought treatment for a mental health issue from a mental health professional?\n",
      "54. If you have a mental health issue, do you feel that it interferes with your work when being treated effectively?\n",
      "55. If you have a mental health issue, do you feel that it interferes with your work when NOT being treated effectively?\n",
      "56. What is your age?\n",
      "57. What is your gender?\n",
      "58. What country do you live in?\n",
      "59. What US state or territory do you live in?\n",
      "60. What country do you work in?\n",
      "61. What US state or territory do you work in?\n",
      "62. Which of the following best describes your work position?\n",
      "63. Do you work remotely?\n"
     ]
    }
   ],
   "source": [
    "#Present all the questions and count them\n",
    "\n",
    "for idx, question in enumerate(df.columns):\n",
    "    print(f\"{idx + 1}. {question}\")"
   ]
  },
  {
   "cell_type": "code",
   "execution_count": 298,
   "id": "35235059-9b7c-45be-adad-e31115214970",
   "metadata": {},
   "outputs": [
    {
     "data": {
      "text/html": [
       "<div>\n",
       "<style scoped>\n",
       "    .dataframe tbody tr th:only-of-type {\n",
       "        vertical-align: middle;\n",
       "    }\n",
       "\n",
       "    .dataframe tbody tr th {\n",
       "        vertical-align: top;\n",
       "    }\n",
       "\n",
       "    .dataframe thead th {\n",
       "        text-align: right;\n",
       "    }\n",
       "</style>\n",
       "<table border=\"1\" class=\"dataframe\">\n",
       "  <thead>\n",
       "    <tr style=\"text-align: right;\">\n",
       "      <th></th>\n",
       "      <th>self_empl_flag</th>\n",
       "      <th>comp_no_empl</th>\n",
       "      <th>tech_comp_flag</th>\n",
       "      <th>tech_role_flag</th>\n",
       "      <th>mh_coverage_flag</th>\n",
       "      <th>mh_coverage_awareness_flag</th>\n",
       "      <th>mh_employer_discussion</th>\n",
       "      <th>mh_resources_provided</th>\n",
       "      <th>mh_anonimity_flag</th>\n",
       "      <th>mh_medical_leave</th>\n",
       "      <th>...</th>\n",
       "      <th>mh_eff_treat_impact_on_work</th>\n",
       "      <th>mh_not_eff_treat_impact_on_work</th>\n",
       "      <th>age</th>\n",
       "      <th>sex</th>\n",
       "      <th>country_live</th>\n",
       "      <th>live_us_teritory</th>\n",
       "      <th>country_work</th>\n",
       "      <th>work_us_teritory</th>\n",
       "      <th>work_position</th>\n",
       "      <th>remote_flag</th>\n",
       "    </tr>\n",
       "  </thead>\n",
       "  <tbody>\n",
       "    <tr>\n",
       "      <th>0</th>\n",
       "      <td>0</td>\n",
       "      <td>26-100</td>\n",
       "      <td>1.0</td>\n",
       "      <td>NaN</td>\n",
       "      <td>Not eligible for coverage / N/A</td>\n",
       "      <td>NaN</td>\n",
       "      <td>No</td>\n",
       "      <td>No</td>\n",
       "      <td>I don't know</td>\n",
       "      <td>Very easy</td>\n",
       "      <td>...</td>\n",
       "      <td>Not applicable to me</td>\n",
       "      <td>Not applicable to me</td>\n",
       "      <td>39</td>\n",
       "      <td>Male</td>\n",
       "      <td>United Kingdom</td>\n",
       "      <td>NaN</td>\n",
       "      <td>United Kingdom</td>\n",
       "      <td>NaN</td>\n",
       "      <td>Back-end Developer</td>\n",
       "      <td>Sometimes</td>\n",
       "    </tr>\n",
       "    <tr>\n",
       "      <th>1</th>\n",
       "      <td>0</td>\n",
       "      <td>6-25</td>\n",
       "      <td>1.0</td>\n",
       "      <td>NaN</td>\n",
       "      <td>No</td>\n",
       "      <td>Yes</td>\n",
       "      <td>Yes</td>\n",
       "      <td>Yes</td>\n",
       "      <td>Yes</td>\n",
       "      <td>Somewhat easy</td>\n",
       "      <td>...</td>\n",
       "      <td>Rarely</td>\n",
       "      <td>Sometimes</td>\n",
       "      <td>29</td>\n",
       "      <td>male</td>\n",
       "      <td>United States of America</td>\n",
       "      <td>Illinois</td>\n",
       "      <td>United States of America</td>\n",
       "      <td>Illinois</td>\n",
       "      <td>Back-end Developer|Front-end Developer</td>\n",
       "      <td>Never</td>\n",
       "    </tr>\n",
       "    <tr>\n",
       "      <th>2</th>\n",
       "      <td>0</td>\n",
       "      <td>6-25</td>\n",
       "      <td>1.0</td>\n",
       "      <td>NaN</td>\n",
       "      <td>No</td>\n",
       "      <td>NaN</td>\n",
       "      <td>No</td>\n",
       "      <td>No</td>\n",
       "      <td>I don't know</td>\n",
       "      <td>Neither easy nor difficult</td>\n",
       "      <td>...</td>\n",
       "      <td>Not applicable to me</td>\n",
       "      <td>Not applicable to me</td>\n",
       "      <td>38</td>\n",
       "      <td>Male</td>\n",
       "      <td>United Kingdom</td>\n",
       "      <td>NaN</td>\n",
       "      <td>United Kingdom</td>\n",
       "      <td>NaN</td>\n",
       "      <td>Back-end Developer</td>\n",
       "      <td>Always</td>\n",
       "    </tr>\n",
       "    <tr>\n",
       "      <th>3</th>\n",
       "      <td>1</td>\n",
       "      <td>NaN</td>\n",
       "      <td>NaN</td>\n",
       "      <td>NaN</td>\n",
       "      <td>NaN</td>\n",
       "      <td>NaN</td>\n",
       "      <td>NaN</td>\n",
       "      <td>NaN</td>\n",
       "      <td>NaN</td>\n",
       "      <td>NaN</td>\n",
       "      <td>...</td>\n",
       "      <td>Sometimes</td>\n",
       "      <td>Sometimes</td>\n",
       "      <td>43</td>\n",
       "      <td>male</td>\n",
       "      <td>United Kingdom</td>\n",
       "      <td>NaN</td>\n",
       "      <td>United Kingdom</td>\n",
       "      <td>NaN</td>\n",
       "      <td>Supervisor/Team Lead</td>\n",
       "      <td>Sometimes</td>\n",
       "    </tr>\n",
       "    <tr>\n",
       "      <th>4</th>\n",
       "      <td>0</td>\n",
       "      <td>6-25</td>\n",
       "      <td>0.0</td>\n",
       "      <td>1.0</td>\n",
       "      <td>Yes</td>\n",
       "      <td>Yes</td>\n",
       "      <td>No</td>\n",
       "      <td>No</td>\n",
       "      <td>No</td>\n",
       "      <td>Neither easy nor difficult</td>\n",
       "      <td>...</td>\n",
       "      <td>Sometimes</td>\n",
       "      <td>Sometimes</td>\n",
       "      <td>43</td>\n",
       "      <td>Female</td>\n",
       "      <td>United States of America</td>\n",
       "      <td>Illinois</td>\n",
       "      <td>United States of America</td>\n",
       "      <td>Illinois</td>\n",
       "      <td>Executive Leadership|Supervisor/Team Lead|Dev ...</td>\n",
       "      <td>Sometimes</td>\n",
       "    </tr>\n",
       "  </tbody>\n",
       "</table>\n",
       "<p>5 rows × 63 columns</p>\n",
       "</div>"
      ],
      "text/plain": [
       "   self_empl_flag comp_no_empl  tech_comp_flag  tech_role_flag  \\\n",
       "0               0       26-100             1.0             NaN   \n",
       "1               0         6-25             1.0             NaN   \n",
       "2               0         6-25             1.0             NaN   \n",
       "3               1          NaN             NaN             NaN   \n",
       "4               0         6-25             0.0             1.0   \n",
       "\n",
       "                  mh_coverage_flag mh_coverage_awareness_flag  \\\n",
       "0  Not eligible for coverage / N/A                        NaN   \n",
       "1                               No                        Yes   \n",
       "2                               No                        NaN   \n",
       "3                              NaN                        NaN   \n",
       "4                              Yes                        Yes   \n",
       "\n",
       "  mh_employer_discussion mh_resources_provided mh_anonimity_flag  \\\n",
       "0                     No                    No      I don't know   \n",
       "1                    Yes                   Yes               Yes   \n",
       "2                     No                    No      I don't know   \n",
       "3                    NaN                   NaN               NaN   \n",
       "4                     No                    No                No   \n",
       "\n",
       "             mh_medical_leave  ... mh_eff_treat_impact_on_work  \\\n",
       "0                   Very easy  ...        Not applicable to me   \n",
       "1               Somewhat easy  ...                      Rarely   \n",
       "2  Neither easy nor difficult  ...        Not applicable to me   \n",
       "3                         NaN  ...                   Sometimes   \n",
       "4  Neither easy nor difficult  ...                   Sometimes   \n",
       "\n",
       "  mh_not_eff_treat_impact_on_work age     sex              country_live  \\\n",
       "0            Not applicable to me  39    Male            United Kingdom   \n",
       "1                       Sometimes  29    male  United States of America   \n",
       "2            Not applicable to me  38   Male             United Kingdom   \n",
       "3                       Sometimes  43    male            United Kingdom   \n",
       "4                       Sometimes  43  Female  United States of America   \n",
       "\n",
       "  live_us_teritory              country_work work_us_teritory  \\\n",
       "0              NaN            United Kingdom              NaN   \n",
       "1         Illinois  United States of America         Illinois   \n",
       "2              NaN            United Kingdom              NaN   \n",
       "3              NaN            United Kingdom              NaN   \n",
       "4         Illinois  United States of America         Illinois   \n",
       "\n",
       "                                       work_position remote_flag  \n",
       "0                                 Back-end Developer   Sometimes  \n",
       "1             Back-end Developer|Front-end Developer       Never  \n",
       "2                                 Back-end Developer      Always  \n",
       "3                               Supervisor/Team Lead   Sometimes  \n",
       "4  Executive Leadership|Supervisor/Team Lead|Dev ...   Sometimes  \n",
       "\n",
       "[5 rows x 63 columns]"
      ]
     },
     "execution_count": 298,
     "metadata": {},
     "output_type": "execute_result"
    }
   ],
   "source": [
    "#Rename features\n",
    "new_features_names = ['self_empl_flag', 'comp_no_empl',  'tech_comp_flag', 'tech_role_flag', 'mh_coverage_flag',\n",
    "                    'mh_coverage_awareness_flag', 'mh_employer_discussion', 'mh_resources_provided', 'mh_anonimity_flag',\n",
    "                    'mh_medical_leave', 'mh_discussion_neg_impact', 'ph_discussion_neg_impact', 'mh_discussion_cowork', \n",
    "                    'mh_discussion_supervisor', 'mh_eq_ph_employer', 'mh_conseq_coworkers', 'mh_coverage_flag2',\n",
    "                    'mh_online_res_flag', 'mh_diagnosed&reveal_clients_flag', 'mh_diagnosed&reveal_clients_impact', \n",
    "                    'mh_diagnosed&reveal_cowork_flag', 'mh_cowork_reveal_neg_impact', 'mh_prod_impact', 'mh_prod_impact_perc',\n",
    "                    'prev_employers_flag', 'prev_mh_benefits', 'prev_mh_benefits_awareness', 'prev_mh_discussion', \n",
    "                    'prev_mh_resources', 'prev_mh_anonimity', 'prev_mh_discuss_neg_conseq', 'prev_ph_discuss_neg_conseq', \n",
    "                    'prev_mh_discussion_cowork', 'prev_mh_discussion_supervisor', 'prev_mh_importance_employer', \n",
    "                    'prev_mh_conseq_coworkers', 'future_ph_specification', 'why/why_not', 'future_mh_specification',\n",
    "                    'why/why_not2', 'mh_hurt_on_career', 'mh_neg_view_cowork', 'mh_sharing_friends/fam_flag', \n",
    "                    'mh_bad_response_workplace', 'mh_for_others_bad_response_workplace', 'mh_family_hist', 'mh_disorder_past',\n",
    "                    'mh_disorder_current', 'yes:what_diagnosis?', 'maybe:whats_your_diag', 'mh_diagnos_proffesional',\n",
    "                    'yes:condition_diagnosed', 'mh_sought_proffes_treatm',  'mh_eff_treat_impact_on_work', \n",
    "                    'mh_not_eff_treat_impact_on_work', 'age', 'sex',  'country_live', 'live_us_teritory', 'country_work', \n",
    "                    'work_us_teritory',  'work_position','remote_flag']\n",
    "\n",
    "df.columns = new_features_names\n",
    "df.head()"
   ]
  },
  {
   "cell_type": "code",
   "execution_count": 299,
   "id": "740dff30-68c5-4c06-89a2-8994e08d1693",
   "metadata": {},
   "outputs": [
    {
     "name": "stdout",
     "output_type": "stream",
     "text": [
      "Number of features dropped: 10\n",
      "Columns dropped:\n",
      "\n",
      "tech_role_flag\n",
      "mh_coverage_flag2\n",
      "mh_online_res_flag\n",
      "mh_diagnosed&reveal_clients_flag\n",
      "mh_diagnosed&reveal_clients_impact\n",
      "mh_diagnosed&reveal_cowork_flag\n",
      "mh_cowork_reveal_neg_impact\n",
      "mh_prod_impact\n",
      "mh_prod_impact_perc\n",
      "maybe:whats_your_diag\n"
     ]
    }
   ],
   "source": [
    "#Drop features with over 70% missing values\n",
    "\n",
    "dropped_feat = [col for col in df.columns if df[col].isna().sum() >= 0.70 * df.shape[0]]\n",
    "\n",
    "print(f'Number of features dropped: {len(dropped_feat)}')\n",
    "\n",
    "print('Columns dropped:\\n')\n",
    "for col_name in dropped_feat:\n",
    "    print(col_name)"
   ]
  },
  {
   "cell_type": "code",
   "execution_count": 300,
   "id": "e68cdef7-281d-4f56-9a0c-8d1c3744796c",
   "metadata": {},
   "outputs": [],
   "source": [
    "df.drop(dropped_feat, axis=1, inplace=True)"
   ]
  },
  {
   "cell_type": "code",
   "execution_count": 301,
   "id": "8120d989-01ab-4173-a046-146b684dcade",
   "metadata": {},
   "outputs": [],
   "source": [
    "# Encode 'sex' column\n",
    "# Female - 0\n",
    "# Man - 1 \n",
    "# Other - 2\n",
    "df['sex'].replace(to_replace = ['Male', 'male', 'Male ', 'M', 'm', 'man', 'male 9:1 female, roughly','Male (cis)',\n",
    "                                 'Cis male', 'Male.', 'Man', 'Sex is male', 'cis male', 'Malr', 'Dude',\n",
    "                                \"I'm a man why didn't you make this a drop down question. You should of asked sex? And I would of answered yes please. Seriously how much text can this take? \",\n",
    "                                 'mail', 'M|', 'Male/genderqueer', 'male ', 'Cis Male', 'Male (trans, FtM)',\n",
    "                                'cisdude', 'cis man', 'MALE'\n",
    "                               ], value = 'male', inplace = True)\n",
    "\n",
    "df['sex'].replace(to_replace = ['Female', 'female', 'I identify as female.', 'female ', \n",
    "                                'Cis female ', 'Transitioned, M2F', 'Genderfluid (born female)',\n",
    "                               'Female or Multi-Gender Femme', 'Female ', 'woman', 'female/woman',\n",
    "                                'Cisgender Female', 'fem', 'Female (props for making this a freeform field, though)',\n",
    "                                ' Female', 'Cis-woman', 'female-bodied; no feelings about gender', 'AFAB', 'F', 'f',\n",
    "                                'Woman', 'fm', 'Female assigned at birth '\n",
    "                               ], value = 'female', inplace = True)\n",
    "\n",
    "df['sex'].replace(to_replace = ['Bigender', 'non-binary', 'Other/Transfeminine',  'Androgynous', \n",
    "                                'Other', 'nb masculine', 'none of your business', 'genderqueer', 'Human', 'Genderfluid',\n",
    "                                'Enby', 'genderqueer woman', 'mtf', 'Queer','Agender', 'Fluid', 'Nonbinary', 'human',\n",
    "                                'Unicorn', 'Genderqueer', 'Genderflux demi-girl', 'Transgender woman'\n",
    "                               ], value = 'other', inplace = True)"
   ]
  },
  {
   "cell_type": "code",
   "execution_count": 302,
   "id": "ac957233-e0b7-49ee-970c-b3bc9d033ef1",
   "metadata": {},
   "outputs": [],
   "source": [
    "#Repair 'comp_no_empl', \n",
    "\n",
    "df['comp_no_empl'].replace(to_replace = ['More than 1000'], value = '>1000', inplace = True)"
   ]
  },
  {
   "cell_type": "code",
   "execution_count": 303,
   "id": "b6a17077-9b21-41bc-a0cb-2c0419154ac0",
   "metadata": {},
   "outputs": [
    {
     "name": "stdout",
     "output_type": "stream",
     "text": [
      "why/why_not - 1086 unique values\n",
      "why/why_not2 - 1081 unique values\n",
      "yes:what_diagnosis? - 129 unique values\n",
      "yes:condition_diagnosed - 117 unique values\n",
      "age - 53 unique values\n",
      "country_live - 53 unique values\n",
      "live_us_teritory - 48 unique values\n",
      "country_work - 53 unique values\n",
      "work_us_teritory - 49 unique values\n",
      "work_position - 264 unique values\n"
     ]
    }
   ],
   "source": [
    "#Detect features with great amount of unique values\n",
    "\n",
    "uni_values_list = [feature for feature in df.columns if len(df[feature].unique()) > 8]\n",
    "\n",
    "for feature in uni_values_list:\n",
    "    print(f\"{feature} - {len(df[feature].unique())} unique values\")"
   ]
  },
  {
   "cell_type": "code",
   "execution_count": 304,
   "id": "36a56d0b-440c-43da-abbe-e3043441b92c",
   "metadata": {},
   "outputs": [
    {
     "name": "stdout",
     "output_type": "stream",
     "text": [
      "why/why_not - 338 NaNs\n",
      "why/why_not2 - 307 NaNs\n",
      "yes:what_diagnosis? - 865 NaNs\n",
      "yes:condition_diagnosed - 722 NaNs\n",
      "age - 0 NaNs\n",
      "country_live - 0 NaNs\n",
      "live_us_teritory - 593 NaNs\n",
      "country_work - 0 NaNs\n",
      "work_us_teritory - 582 NaNs\n",
      "work_position - 0 NaNs\n"
     ]
    }
   ],
   "source": [
    "#Detect features with great amount of NaN values\n",
    "\n",
    "for feature in uni_values_list:\n",
    "    print(f\"{feature} - {df[feature].isna().sum()} NaNs\")"
   ]
  },
  {
   "cell_type": "code",
   "execution_count": 305,
   "id": "5e33b6d0-2f4a-49ef-ab60-6fd62d1ce83d",
   "metadata": {},
   "outputs": [
    {
     "data": {
      "text/html": [
       "<div>\n",
       "<style scoped>\n",
       "    .dataframe tbody tr th:only-of-type {\n",
       "        vertical-align: middle;\n",
       "    }\n",
       "\n",
       "    .dataframe tbody tr th {\n",
       "        vertical-align: top;\n",
       "    }\n",
       "\n",
       "    .dataframe thead th {\n",
       "        text-align: right;\n",
       "    }\n",
       "</style>\n",
       "<table border=\"1\" class=\"dataframe\">\n",
       "  <thead>\n",
       "    <tr style=\"text-align: right;\">\n",
       "      <th></th>\n",
       "      <th>self_empl_flag</th>\n",
       "      <th>comp_no_empl</th>\n",
       "      <th>tech_comp_flag</th>\n",
       "      <th>mh_coverage_flag</th>\n",
       "      <th>mh_coverage_awareness_flag</th>\n",
       "      <th>mh_employer_discussion</th>\n",
       "      <th>mh_resources_provided</th>\n",
       "      <th>mh_anonimity_flag</th>\n",
       "      <th>mh_medical_leave</th>\n",
       "      <th>mh_discussion_neg_impact</th>\n",
       "      <th>...</th>\n",
       "      <th>mh_eff_treat_impact_on_work</th>\n",
       "      <th>mh_not_eff_treat_impact_on_work</th>\n",
       "      <th>age</th>\n",
       "      <th>sex</th>\n",
       "      <th>country_live</th>\n",
       "      <th>live_us_teritory</th>\n",
       "      <th>country_work</th>\n",
       "      <th>work_us_teritory</th>\n",
       "      <th>work_position</th>\n",
       "      <th>remote_flag</th>\n",
       "    </tr>\n",
       "  </thead>\n",
       "  <tbody>\n",
       "    <tr>\n",
       "      <th>0</th>\n",
       "      <td>0</td>\n",
       "      <td>26-100</td>\n",
       "      <td>1.0</td>\n",
       "      <td>Not eligible for coverage / N/A</td>\n",
       "      <td>NaN</td>\n",
       "      <td>No</td>\n",
       "      <td>No</td>\n",
       "      <td>I don't know</td>\n",
       "      <td>Very easy</td>\n",
       "      <td>No</td>\n",
       "      <td>...</td>\n",
       "      <td>Not applicable to me</td>\n",
       "      <td>Not applicable to me</td>\n",
       "      <td>39</td>\n",
       "      <td>male</td>\n",
       "      <td>United Kingdom</td>\n",
       "      <td>NaN</td>\n",
       "      <td>United Kingdom</td>\n",
       "      <td>NaN</td>\n",
       "      <td>Back-end Developer</td>\n",
       "      <td>Sometimes</td>\n",
       "    </tr>\n",
       "    <tr>\n",
       "      <th>1</th>\n",
       "      <td>0</td>\n",
       "      <td>6-25</td>\n",
       "      <td>1.0</td>\n",
       "      <td>No</td>\n",
       "      <td>Yes</td>\n",
       "      <td>Yes</td>\n",
       "      <td>Yes</td>\n",
       "      <td>Yes</td>\n",
       "      <td>Somewhat easy</td>\n",
       "      <td>No</td>\n",
       "      <td>...</td>\n",
       "      <td>Rarely</td>\n",
       "      <td>Sometimes</td>\n",
       "      <td>29</td>\n",
       "      <td>male</td>\n",
       "      <td>United States of America</td>\n",
       "      <td>Illinois</td>\n",
       "      <td>United States of America</td>\n",
       "      <td>Illinois</td>\n",
       "      <td>Back-end Developer|Front-end Developer</td>\n",
       "      <td>Never</td>\n",
       "    </tr>\n",
       "    <tr>\n",
       "      <th>2</th>\n",
       "      <td>0</td>\n",
       "      <td>6-25</td>\n",
       "      <td>1.0</td>\n",
       "      <td>No</td>\n",
       "      <td>NaN</td>\n",
       "      <td>No</td>\n",
       "      <td>No</td>\n",
       "      <td>I don't know</td>\n",
       "      <td>Neither easy nor difficult</td>\n",
       "      <td>Maybe</td>\n",
       "      <td>...</td>\n",
       "      <td>Not applicable to me</td>\n",
       "      <td>Not applicable to me</td>\n",
       "      <td>38</td>\n",
       "      <td>male</td>\n",
       "      <td>United Kingdom</td>\n",
       "      <td>NaN</td>\n",
       "      <td>United Kingdom</td>\n",
       "      <td>NaN</td>\n",
       "      <td>Back-end Developer</td>\n",
       "      <td>Always</td>\n",
       "    </tr>\n",
       "    <tr>\n",
       "      <th>3</th>\n",
       "      <td>1</td>\n",
       "      <td>NaN</td>\n",
       "      <td>NaN</td>\n",
       "      <td>NaN</td>\n",
       "      <td>NaN</td>\n",
       "      <td>NaN</td>\n",
       "      <td>NaN</td>\n",
       "      <td>NaN</td>\n",
       "      <td>NaN</td>\n",
       "      <td>NaN</td>\n",
       "      <td>...</td>\n",
       "      <td>Sometimes</td>\n",
       "      <td>Sometimes</td>\n",
       "      <td>43</td>\n",
       "      <td>male</td>\n",
       "      <td>United Kingdom</td>\n",
       "      <td>NaN</td>\n",
       "      <td>United Kingdom</td>\n",
       "      <td>NaN</td>\n",
       "      <td>Supervisor/Team Lead</td>\n",
       "      <td>Sometimes</td>\n",
       "    </tr>\n",
       "    <tr>\n",
       "      <th>4</th>\n",
       "      <td>0</td>\n",
       "      <td>6-25</td>\n",
       "      <td>0.0</td>\n",
       "      <td>Yes</td>\n",
       "      <td>Yes</td>\n",
       "      <td>No</td>\n",
       "      <td>No</td>\n",
       "      <td>No</td>\n",
       "      <td>Neither easy nor difficult</td>\n",
       "      <td>Yes</td>\n",
       "      <td>...</td>\n",
       "      <td>Sometimes</td>\n",
       "      <td>Sometimes</td>\n",
       "      <td>43</td>\n",
       "      <td>female</td>\n",
       "      <td>United States of America</td>\n",
       "      <td>Illinois</td>\n",
       "      <td>United States of America</td>\n",
       "      <td>Illinois</td>\n",
       "      <td>Executive Leadership|Supervisor/Team Lead|Dev ...</td>\n",
       "      <td>Sometimes</td>\n",
       "    </tr>\n",
       "  </tbody>\n",
       "</table>\n",
       "<p>5 rows × 49 columns</p>\n",
       "</div>"
      ],
      "text/plain": [
       "   self_empl_flag comp_no_empl  tech_comp_flag  \\\n",
       "0               0       26-100             1.0   \n",
       "1               0         6-25             1.0   \n",
       "2               0         6-25             1.0   \n",
       "3               1          NaN             NaN   \n",
       "4               0         6-25             0.0   \n",
       "\n",
       "                  mh_coverage_flag mh_coverage_awareness_flag  \\\n",
       "0  Not eligible for coverage / N/A                        NaN   \n",
       "1                               No                        Yes   \n",
       "2                               No                        NaN   \n",
       "3                              NaN                        NaN   \n",
       "4                              Yes                        Yes   \n",
       "\n",
       "  mh_employer_discussion mh_resources_provided mh_anonimity_flag  \\\n",
       "0                     No                    No      I don't know   \n",
       "1                    Yes                   Yes               Yes   \n",
       "2                     No                    No      I don't know   \n",
       "3                    NaN                   NaN               NaN   \n",
       "4                     No                    No                No   \n",
       "\n",
       "             mh_medical_leave mh_discussion_neg_impact  ...  \\\n",
       "0                   Very easy                       No  ...   \n",
       "1               Somewhat easy                       No  ...   \n",
       "2  Neither easy nor difficult                    Maybe  ...   \n",
       "3                         NaN                      NaN  ...   \n",
       "4  Neither easy nor difficult                      Yes  ...   \n",
       "\n",
       "  mh_eff_treat_impact_on_work mh_not_eff_treat_impact_on_work age     sex  \\\n",
       "0        Not applicable to me            Not applicable to me  39    male   \n",
       "1                      Rarely                       Sometimes  29    male   \n",
       "2        Not applicable to me            Not applicable to me  38    male   \n",
       "3                   Sometimes                       Sometimes  43    male   \n",
       "4                   Sometimes                       Sometimes  43  female   \n",
       "\n",
       "               country_live  live_us_teritory              country_work  \\\n",
       "0            United Kingdom               NaN            United Kingdom   \n",
       "1  United States of America          Illinois  United States of America   \n",
       "2            United Kingdom               NaN            United Kingdom   \n",
       "3            United Kingdom               NaN            United Kingdom   \n",
       "4  United States of America          Illinois  United States of America   \n",
       "\n",
       "  work_us_teritory                                      work_position  \\\n",
       "0              NaN                                 Back-end Developer   \n",
       "1         Illinois             Back-end Developer|Front-end Developer   \n",
       "2              NaN                                 Back-end Developer   \n",
       "3              NaN                               Supervisor/Team Lead   \n",
       "4         Illinois  Executive Leadership|Supervisor/Team Lead|Dev ...   \n",
       "\n",
       "  remote_flag  \n",
       "0   Sometimes  \n",
       "1       Never  \n",
       "2      Always  \n",
       "3   Sometimes  \n",
       "4   Sometimes  \n",
       "\n",
       "[5 rows x 49 columns]"
      ]
     },
     "execution_count": 305,
     "metadata": {},
     "output_type": "execute_result"
    }
   ],
   "source": [
    "#Drop features that would be hard to interpret because of large amount of missing data or complex structure of a feature\n",
    "\n",
    "features_to_drop = [feature for feature \n",
    "                    in uni_values_list \n",
    "                    if len(df[feature].unique()) > 264 \n",
    "                    or df[feature].isna().sum() > 600]\n",
    "\n",
    "df.drop(features_to_drop, axis=1, inplace=True)\n",
    "\n",
    "df.head()"
   ]
  },
  {
   "cell_type": "code",
   "execution_count": 306,
   "id": "c22e81bb-2f66-4e7d-80ef-a93eebfae20f",
   "metadata": {},
   "outputs": [],
   "source": [
    "#to work on: work_position, work_us_terr, live_us, "
   ]
  },
  {
   "cell_type": "code",
   "execution_count": 307,
   "id": "2ff6666d-77f2-4ce2-af93-b65fc4cfeb52",
   "metadata": {},
   "outputs": [
    {
     "data": {
      "image/png": "[encoded data removed]",
      "text/plain": [
       "<Figure size 640x480 with 1 Axes>"
      ]
     },
     "metadata": {},
     "output_type": "display_data"
    }
   ],
   "source": [
    "#There is something wrong with the 'age' feature\n",
    "plt.hist(df['age']);"
   ]
  },
  {
   "cell_type": "code",
   "execution_count": 308,
   "id": "8951a631-f6bf-4515-aeb7-04b477df58ae",
   "metadata": {},
   "outputs": [
    {
     "data": {
      "text/plain": [
       "count    1433.000000\n",
       "mean       34.286113\n",
       "std        11.290931\n",
       "min         3.000000\n",
       "25%        28.000000\n",
       "50%        33.000000\n",
       "75%        39.000000\n",
       "max       323.000000\n",
       "Name: age, dtype: float64"
      ]
     },
     "execution_count": 308,
     "metadata": {},
     "output_type": "execute_result"
    }
   ],
   "source": [
    "#min 3? max 323?\n",
    "df['age'].describe()"
   ]
  },
  {
   "cell_type": "code",
   "execution_count": 309,
   "id": "f75e9681-42fc-4a3f-b14e-70648e711e14",
   "metadata": {},
   "outputs": [
    {
     "data": {
      "text/plain": [
       "(656     3\n",
       " 808    15\n",
       " 93     17\n",
       " 76     19\n",
       " 559    19\n",
       " Name: age, dtype: int64,\n",
       " 564     323\n",
       " 372      99\n",
       " 1117     74\n",
       " 1221     70\n",
       " 701      66\n",
       " Name: age, dtype: int64)"
      ]
     },
     "execution_count": 309,
     "metadata": {},
     "output_type": "execute_result"
    }
   ],
   "source": [
    "df['age'].nsmallest(5), df['age'].nlargest(5)"
   ]
  },
  {
   "cell_type": "code",
   "execution_count": 310,
   "id": "4a959a5c-ecea-4e88-b10a-9a116479c817",
   "metadata": {},
   "outputs": [
    {
     "data": {
      "text/plain": [
       "count    1433.000000\n",
       "mean       34.082345\n",
       "std         8.072398\n",
       "min        19.000000\n",
       "25%        28.000000\n",
       "50%        33.000000\n",
       "75%        38.000000\n",
       "max        74.000000\n",
       "Name: age, dtype: float64"
      ]
     },
     "execution_count": 310,
     "metadata": {},
     "output_type": "execute_result"
    }
   ],
   "source": [
    "age_median = df['age'].median()\n",
    "df['age'].replace(to_replace = df[(df['age'] < 18) | (df['age'] > 75)]['age'].to_list(), value = age_median, inplace = True)\n",
    "df['age'].describe()"
   ]
  },
  {
   "cell_type": "code",
   "execution_count": 311,
   "id": "f53f8fa5-ca08-4592-8233-812b6ab52f47",
   "metadata": {},
   "outputs": [
    {
     "name": "stderr",
     "output_type": "stream",
     "text": [
      "/Users/alanszpetmanski/opt/anaconda3/envs/ZTM_course/lib/python3.9/site-packages/seaborn/_oldcore.py:1119: FutureWarning: use_inf_as_na option is deprecated and will be removed in a future version. Convert inf values to NaN before operating instead.\n",
      "  with pd.option_context('mode.use_inf_as_na', True):\n"
     ]
    },
    {
     "data": {
      "image/png": "[encoded data removed]",
      "text/plain": [
       "<Figure size 640x480 with 1 Axes>"
      ]
     },
     "metadata": {},
     "output_type": "display_data"
    }
   ],
   "source": [
    "sns.histplot(df['age']);"
   ]
  },
  {
   "cell_type": "code",
   "execution_count": 312,
   "id": "c3e770c0-46ac-4f9b-b7e0-4acdb2a4bb43",
   "metadata": {},
   "outputs": [
    {
     "name": "stderr",
     "output_type": "stream",
     "text": [
      "/Users/alanszpetmanski/opt/anaconda3/envs/ZTM_course/lib/python3.9/site-packages/seaborn/_oldcore.py:1119: FutureWarning: use_inf_as_na option is deprecated and will be removed in a future version. Convert inf values to NaN before operating instead.\n",
      "  with pd.option_context('mode.use_inf_as_na', True):\n"
     ]
    },
    {
     "data": {
      "image/png": "[encoded data removed]",
      "text/plain": [
       "<Figure size 640x480 with 1 Axes>"
      ]
     },
     "metadata": {},
     "output_type": "display_data"
    }
   ],
   "source": [
    "#Drop countries with less than 20 responses\n",
    "countries_more_20_responses = df['country_live'].value_counts().head(6).index.tolist()\n",
    "df = df[df['country_live'].isin(countries_more_20_responses)]\n",
    "sns.histplot(df['country_live']);\n"
   ]
  },
  {
   "cell_type": "code",
   "execution_count": 313,
   "id": "967056ae-7ba0-4791-9610-ac5a74e30c43",
   "metadata": {},
   "outputs": [
    {
     "name": "stderr",
     "output_type": "stream",
     "text": [
      "/Users/alanszpetmanski/opt/anaconda3/envs/ZTM_course/lib/python3.9/site-packages/seaborn/_oldcore.py:1119: FutureWarning: use_inf_as_na option is deprecated and will be removed in a future version. Convert inf values to NaN before operating instead.\n",
      "  with pd.option_context('mode.use_inf_as_na', True):\n"
     ]
    },
    {
     "data": {
      "image/png": "[encoded data removed]",
      "text/plain": [
       "<Figure size 640x480 with 1 Axes>"
      ]
     },
     "metadata": {},
     "output_type": "display_data"
    }
   ],
   "source": [
    "sns.histplot(df['country_work']);"
   ]
  },
  {
   "cell_type": "code",
   "execution_count": 314,
   "id": "188ce9b1-96ad-4942-9108-5888c31d8914",
   "metadata": {},
   "outputs": [
    {
     "name": "stderr",
     "output_type": "stream",
     "text": [
      "/Users/alanszpetmanski/opt/anaconda3/envs/ZTM_course/lib/python3.9/site-packages/seaborn/_oldcore.py:1119: FutureWarning: use_inf_as_na option is deprecated and will be removed in a future version. Convert inf values to NaN before operating instead.\n",
      "  with pd.option_context('mode.use_inf_as_na', True):\n"
     ]
    },
    {
     "data": {
      "image/png": "[encoded data removed]",
      "text/plain": [
       "<Figure size 640x480 with 1 Axes>"
      ]
     },
     "metadata": {},
     "output_type": "display_data"
    }
   ],
   "source": [
    "countries_more_20_responses = df['country_work'].value_counts().head(6).index.tolist()\n",
    "df = df[df['country_work'].isin(countries_more_20_responses)]\n",
    "sns.histplot(df['country_work']);"
   ]
  },
  {
   "cell_type": "code",
   "execution_count": 315,
   "id": "929b5c63-802a-4f9d-88e4-f4d1a39434bd",
   "metadata": {},
   "outputs": [],
   "source": [
    "#ive_us_teritory - 593 NaNs\n",
    "#work_us_teritory - 582 NaNs\n",
    "\n",
    "df.drop(['live_us_teritory', 'work_us_teritory', 'mh_for_others_bad_response_workplace'], axis=1, inplace=True)"
   ]
  },
  {
   "cell_type": "code",
   "execution_count": 316,
   "id": "dd8f0845-b6b3-4974-a7b3-c8e27a302b79",
   "metadata": {},
   "outputs": [
    {
     "data": {
      "text/plain": [
       "self_empl_flag                       0\n",
       "comp_no_empl                       229\n",
       "tech_comp_flag                     229\n",
       "mh_coverage_flag                   229\n",
       "mh_coverage_awareness_flag         332\n",
       "mh_employer_discussion             229\n",
       "mh_resources_provided              229\n",
       "mh_anonimity_flag                  229\n",
       "mh_medical_leave                   229\n",
       "mh_discussion_neg_impact           229\n",
       "ph_discussion_neg_impact           229\n",
       "mh_discussion_cowork               229\n",
       "mh_discussion_supervisor           229\n",
       "mh_eq_ph_employer                  229\n",
       "mh_conseq_coworkers                229\n",
       "prev_employers_flag                  0\n",
       "prev_mh_benefits                   138\n",
       "prev_mh_benefits_awareness         138\n",
       "prev_mh_discussion                 138\n",
       "prev_mh_resources                  138\n",
       "prev_mh_anonimity                  138\n",
       "prev_mh_discuss_neg_conseq         138\n",
       "prev_ph_discuss_neg_conseq         138\n",
       "prev_mh_discussion_cowork          138\n",
       "prev_mh_discussion_supervisor      138\n",
       "prev_mh_importance_employer        138\n",
       "prev_mh_conseq_coworkers           138\n",
       "future_ph_specification              0\n",
       "future_mh_specification              0\n",
       "mh_hurt_on_career                    0\n",
       "mh_neg_view_cowork                   0\n",
       "mh_sharing_friends/fam_flag          0\n",
       "mh_bad_response_workplace           73\n",
       "mh_family_hist                       0\n",
       "mh_disorder_past                     0\n",
       "mh_disorder_current                  0\n",
       "mh_diagnos_proffesional              0\n",
       "mh_sought_proffes_treatm             0\n",
       "mh_eff_treat_impact_on_work          0\n",
       "mh_not_eff_treat_impact_on_work      0\n",
       "age                                  0\n",
       "sex                                  3\n",
       "country_live                         0\n",
       "country_work                         0\n",
       "work_position                        0\n",
       "remote_flag                          0\n",
       "dtype: int64"
      ]
     },
     "execution_count": 316,
     "metadata": {},
     "output_type": "execute_result"
    }
   ],
   "source": [
    "df.isna().sum()"
   ]
  },
  {
   "cell_type": "code",
   "execution_count": null,
   "id": "d948e537-4bff-4dcb-b038-60df05060dbb",
   "metadata": {},
   "outputs": [],
   "source": []
  },
  {
   "cell_type": "code",
   "execution_count": 317,
   "id": "22d2a59d-bd82-4d8c-a56d-8c990e509de6",
   "metadata": {},
   "outputs": [
    {
     "data": {
      "text/plain": [
       "Index(['Back-end', 'Front-end', 'Supervisor/Team', 'Other', 'One-person',\n",
       "       'Executive', 'DevOps/SysAdmin', 'Dev', 'DevOps/SysAdmin|Back-end',\n",
       "       'Support', 'Designer'],\n",
       "      dtype='object', name='work_position')"
      ]
     },
     "execution_count": 317,
     "metadata": {},
     "output_type": "execute_result"
    }
   ],
   "source": [
    "most_popular_positions = df['work_position'].str.split().str[0].value_counts().head(11).index\n",
    "most_popular_positions"
   ]
  },
  {
   "cell_type": "code",
   "execution_count": 321,
   "id": "5d4591c1-d20f-4c06-8446-0e13d1c851ef",
   "metadata": {},
   "outputs": [],
   "source": [
    "df['work_position'] = df['work_position'].str.split().str[0]"
   ]
  },
  {
   "cell_type": "code",
   "execution_count": 322,
   "id": "f01dfb74-d2cd-4f7a-af4b-c72e7205ba1e",
   "metadata": {},
   "outputs": [
    {
     "data": {
      "text/plain": [
       "(1107, 46)"
      ]
     },
     "execution_count": 322,
     "metadata": {},
     "output_type": "execute_result"
    }
   ],
   "source": [
    "df = df[df['work_position'].isin(most_popular_positions)]\n",
    "df.shape"
   ]
  },
  {
   "cell_type": "code",
   "execution_count": 323,
   "id": "f7f1db01-1c81-406c-a5e0-6d0d9e943b5a",
   "metadata": {},
   "outputs": [
    {
     "data": {
      "text/plain": [
       "work_position\n",
       "Back-end                    313\n",
       "Front-end                   195\n",
       "Supervisor/Team             161\n",
       "Other                       100\n",
       "One-person                   89\n",
       "Executive                    58\n",
       "DevOps/SysAdmin              49\n",
       "Dev                          47\n",
       "DevOps/SysAdmin|Back-end     38\n",
       "Support                      29\n",
       "Designer                     28\n",
       "Name: count, dtype: int64"
      ]
     },
     "execution_count": 323,
     "metadata": {},
     "output_type": "execute_result"
    }
   ],
   "source": [
    "df['work_position'].value_counts()"
   ]
  },
  {
   "cell_type": "code",
   "execution_count": null,
   "id": "91872571-f70b-4dd6-92b4-f06aa67b608e",
   "metadata": {},
   "outputs": [],
   "source": []
  }
 ],
 "metadata": {
  "kernelspec": {
   "display_name": "Python 3 (ipykernel)",
   "language": "python",
   "name": "python3"
  },
  "language_info": {
   "codemirror_mode": {
    "name": "ipython",
    "version": 3
   },
   "file_extension": ".py",
   "mimetype": "text/x-python",
   "name": "python",
   "nbconvert_exporter": "python",
   "pygments_lexer": "ipython3",
   "version": "3.9.18"
  }
 },
 "nbformat": 4,
 "nbformat_minor": 5
}
